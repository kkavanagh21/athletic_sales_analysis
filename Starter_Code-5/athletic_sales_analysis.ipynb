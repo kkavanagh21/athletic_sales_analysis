{
 "cells": [
  {
   "cell_type": "code",
   "execution_count": 127,
   "metadata": {},
   "outputs": [],
   "source": [
    "#pip install pandas"
   ]
  },
  {
   "cell_type": "code",
   "execution_count": 128,
   "metadata": {},
   "outputs": [],
   "source": [
    "# Import Libraries and Dependencies\n",
    "import pandas as pd"
   ]
  },
  {
   "cell_type": "markdown",
   "metadata": {},
   "source": [
    "### 1. Combine and Clean the Data\n",
    "#### Import CSVs"
   ]
  },
  {
   "cell_type": "code",
   "execution_count": 129,
   "metadata": {},
   "outputs": [],
   "source": [
    "# Read the CSV files into DataFrames.\n",
    "df_2020 = pd.read_csv('athletic_sales_2020.csv')\n",
    "df_2021 = pd.read_csv('athletic_sales_2021.csv')\n"
   ]
  },
  {
   "cell_type": "code",
   "execution_count": 130,
   "metadata": {},
   "outputs": [
    {
     "name": "stdout",
     "output_type": "stream",
     "text": [
      "2020 Data:\n",
      "      retailer  retailer_id invoice_date     region         state  \\\n",
      "0  Foot Locker      1185732       1/1/20  Northeast      New York   \n",
      "1  Foot Locker      1185732       1/1/20  Northeast  Pennsylvania   \n",
      "2  Foot Locker      1185732       1/1/20  Northeast  Pennsylvania   \n",
      "3  Foot Locker      1185732       1/1/20  Northeast      New York   \n",
      "4  Foot Locker      1185732       1/1/20  Northeast  Pennsylvania   \n",
      "\n",
      "           city                product  price_per_unit  units_sold  \\\n",
      "0      New York  Men's Street Footwear              50        1200   \n",
      "1  Philadelphia        Women's Apparel              68          83   \n",
      "2  Philadelphia        Women's Apparel              75         275   \n",
      "3      New York  Men's Street Footwear              34         384   \n",
      "4  Philadelphia        Women's Apparel              53          83   \n",
      "\n",
      "   total_sales  operating_profit sales_method  \n",
      "0       600000         300000.00     In-store  \n",
      "1         5644           2426.92       Online  \n",
      "2       206250          61875.00       Outlet  \n",
      "3        13056           6789.12       Outlet  \n",
      "4         4399           1407.68       Outlet  \n"
     ]
    }
   ],
   "source": [
    "# Display the 2020 sales DataFrame\n",
    "print(\"2020 Data:\")\n",
    "print(df_2020.head())"
   ]
  },
  {
   "cell_type": "code",
   "execution_count": 131,
   "metadata": {},
   "outputs": [
    {
     "name": "stdout",
     "output_type": "stream",
     "text": [
      "2021 Data:\n",
      "    retailer  retailer_id invoice_date   region       state           city  \\\n",
      "0  West Gear      1128299       1/1/21     West  California  San Francisco   \n",
      "1  West Gear      1128299       1/1/21     West  California  San Francisco   \n",
      "2     Kohl's      1189833       1/1/21  Midwest     Montana       Billings   \n",
      "3     Kohl's      1189833       1/1/21  Midwest     Montana       Billings   \n",
      "4  West Gear      1128299       1/1/21     West  California  San Francisco   \n",
      "\n",
      "                   product  price_per_unit  units_sold  total_sales  \\\n",
      "0  Men's Athletic Footwear              65         750       487500   \n",
      "1  Men's Athletic Footwear              51         233        11883   \n",
      "2            Men's Apparel              50         275       137500   \n",
      "3            Men's Apparel              47          77         3619   \n",
      "4  Men's Athletic Footwear              64         225        14400   \n",
      "\n",
      "   operating_profit sales_method  \n",
      "0         121875.00       Outlet  \n",
      "1           3208.41       Outlet  \n",
      "2          82500.00       Outlet  \n",
      "3           2714.25       Online  \n",
      "4           5184.00       Online  \n"
     ]
    }
   ],
   "source": [
    "# Display the 2021 sales DataFrame\n",
    "print(\"2021 Data:\")\n",
    "print(df_2021.head())"
   ]
  },
  {
   "cell_type": "markdown",
   "metadata": {},
   "source": [
    "#### Check the data types of each DataFrame"
   ]
  },
  {
   "cell_type": "code",
   "execution_count": 132,
   "metadata": {},
   "outputs": [
    {
     "name": "stdout",
     "output_type": "stream",
     "text": [
      "2020 Data Types:\n",
      "<class 'pandas.core.frame.DataFrame'>\n",
      "RangeIndex: 1297 entries, 0 to 1296\n",
      "Data columns (total 12 columns):\n",
      " #   Column            Non-Null Count  Dtype  \n",
      "---  ------            --------------  -----  \n",
      " 0   retailer          1297 non-null   object \n",
      " 1   retailer_id       1297 non-null   int64  \n",
      " 2   invoice_date      1297 non-null   object \n",
      " 3   region            1297 non-null   object \n",
      " 4   state             1297 non-null   object \n",
      " 5   city              1297 non-null   object \n",
      " 6   product           1297 non-null   object \n",
      " 7   price_per_unit    1297 non-null   int64  \n",
      " 8   units_sold        1297 non-null   int64  \n",
      " 9   total_sales       1297 non-null   int64  \n",
      " 10  operating_profit  1297 non-null   float64\n",
      " 11  sales_method      1297 non-null   object \n",
      "dtypes: float64(1), int64(4), object(7)\n",
      "memory usage: 121.7+ KB\n",
      "None\n"
     ]
    }
   ],
   "source": [
    "# Check the 2020 sales data types.\n",
    "# Check the data types of the 2020 sales data\n",
    "print(\"2020 Data Types:\")\n",
    "print(df_2020.info())\n"
   ]
  },
  {
   "cell_type": "code",
   "execution_count": 133,
   "metadata": {},
   "outputs": [
    {
     "name": "stdout",
     "output_type": "stream",
     "text": [
      "2021 Data Types:\n",
      "<class 'pandas.core.frame.DataFrame'>\n",
      "RangeIndex: 8346 entries, 0 to 8345\n",
      "Data columns (total 12 columns):\n",
      " #   Column            Non-Null Count  Dtype  \n",
      "---  ------            --------------  -----  \n",
      " 0   retailer          8346 non-null   object \n",
      " 1   retailer_id       8346 non-null   int64  \n",
      " 2   invoice_date      8346 non-null   object \n",
      " 3   region            8346 non-null   object \n",
      " 4   state             8346 non-null   object \n",
      " 5   city              8346 non-null   object \n",
      " 6   product           8346 non-null   object \n",
      " 7   price_per_unit    8346 non-null   int64  \n",
      " 8   units_sold        8346 non-null   int64  \n",
      " 9   total_sales       8346 non-null   int64  \n",
      " 10  operating_profit  8346 non-null   float64\n",
      " 11  sales_method      8346 non-null   object \n",
      "dtypes: float64(1), int64(4), object(7)\n",
      "memory usage: 782.6+ KB\n",
      "None\n"
     ]
    }
   ],
   "source": [
    "# Check the 2021 sales data types.\n",
    "# Check the data types of the 2020 sales data\n",
    "print(\"2021 Data Types:\")\n",
    "print(df_2021.info())\n"
   ]
  },
  {
   "cell_type": "markdown",
   "metadata": {},
   "source": [
    "#### Combine the sales data by rows."
   ]
  },
  {
   "cell_type": "code",
   "execution_count": 134,
   "metadata": {},
   "outputs": [
    {
     "name": "stdout",
     "output_type": "stream",
     "text": [
      "Combined Data:\n",
      "      retailer  retailer_id invoice_date     region         state  \\\n",
      "0  Foot Locker      1185732       1/1/20  Northeast      New York   \n",
      "1  Foot Locker      1185732       1/1/20  Northeast  Pennsylvania   \n",
      "2  Foot Locker      1185732       1/1/20  Northeast  Pennsylvania   \n",
      "3  Foot Locker      1185732       1/1/20  Northeast      New York   \n",
      "4  Foot Locker      1185732       1/1/20  Northeast  Pennsylvania   \n",
      "\n",
      "           city                product  price_per_unit  units_sold  \\\n",
      "0      New York  Men's Street Footwear              50        1200   \n",
      "1  Philadelphia        Women's Apparel              68          83   \n",
      "2  Philadelphia        Women's Apparel              75         275   \n",
      "3      New York  Men's Street Footwear              34         384   \n",
      "4  Philadelphia        Women's Apparel              53          83   \n",
      "\n",
      "   total_sales  operating_profit sales_method  \n",
      "0       600000         300000.00     In-store  \n",
      "1         5644           2426.92       Online  \n",
      "2       206250          61875.00       Outlet  \n",
      "3        13056           6789.12       Outlet  \n",
      "4         4399           1407.68       Outlet  \n"
     ]
    }
   ],
   "source": [
    "# Combine the 2020 and 2021 sales DataFrames on the rows \n",
    "combined_df = pd.concat([df_2020, df_2021], ignore_index=True)\n",
    "# Reset the index\n",
    "combined_df.reset_index(drop=True, inplace=True)\n",
    "\n",
    "print(\"Combined Data:\")\n",
    "print(combined_df.head())\n",
    "\n"
   ]
  },
  {
   "cell_type": "code",
   "execution_count": 135,
   "metadata": {},
   "outputs": [
    {
     "name": "stdout",
     "output_type": "stream",
     "text": [
      "Null Values in Combined Data:\n",
      "retailer            0\n",
      "retailer_id         0\n",
      "invoice_date        0\n",
      "region              0\n",
      "state               0\n",
      "city                0\n",
      "product             0\n",
      "price_per_unit      0\n",
      "units_sold          0\n",
      "total_sales         0\n",
      "operating_profit    0\n",
      "sales_method        0\n",
      "dtype: int64\n"
     ]
    }
   ],
   "source": [
    "# Check if any values are null.\n",
    "null_values = combined_df.isnull().sum()\n",
    "\n",
    "# Display the count of null values for each column\n",
    "print(\"Null Values in Combined Data:\")\n",
    "print(null_values)\n"
   ]
  },
  {
   "cell_type": "code",
   "execution_count": 136,
   "metadata": {},
   "outputs": [
    {
     "name": "stdout",
     "output_type": "stream",
     "text": [
      "Data Types in Combined Data:\n",
      "<class 'pandas.core.frame.DataFrame'>\n",
      "RangeIndex: 9643 entries, 0 to 9642\n",
      "Data columns (total 12 columns):\n",
      " #   Column            Non-Null Count  Dtype  \n",
      "---  ------            --------------  -----  \n",
      " 0   retailer          9643 non-null   object \n",
      " 1   retailer_id       9643 non-null   int64  \n",
      " 2   invoice_date      9643 non-null   object \n",
      " 3   region            9643 non-null   object \n",
      " 4   state             9643 non-null   object \n",
      " 5   city              9643 non-null   object \n",
      " 6   product           9643 non-null   object \n",
      " 7   price_per_unit    9643 non-null   int64  \n",
      " 8   units_sold        9643 non-null   int64  \n",
      " 9   total_sales       9643 non-null   int64  \n",
      " 10  operating_profit  9643 non-null   float64\n",
      " 11  sales_method      9643 non-null   object \n",
      "dtypes: float64(1), int64(4), object(7)\n",
      "memory usage: 904.2+ KB\n",
      "None\n"
     ]
    }
   ],
   "source": [
    "# Check the data type of each column\n",
    "print(\"Data Types in Combined Data:\")\n",
    "print(combined_df.info())\n"
   ]
  },
  {
   "cell_type": "code",
   "execution_count": 137,
   "metadata": {},
   "outputs": [
    {
     "name": "stdout",
     "output_type": "stream",
     "text": [
      "\n",
      "After Conversion:\n",
      "<class 'pandas.core.frame.DataFrame'>\n",
      "RangeIndex: 9643 entries, 0 to 9642\n",
      "Data columns (total 12 columns):\n",
      " #   Column            Non-Null Count  Dtype         \n",
      "---  ------            --------------  -----         \n",
      " 0   retailer          9643 non-null   object        \n",
      " 1   retailer_id       9643 non-null   int64         \n",
      " 2   invoice_date      9643 non-null   datetime64[ns]\n",
      " 3   region            9643 non-null   object        \n",
      " 4   state             9643 non-null   object        \n",
      " 5   city              9643 non-null   object        \n",
      " 6   product           9643 non-null   object        \n",
      " 7   price_per_unit    9643 non-null   int64         \n",
      " 8   units_sold        9643 non-null   int64         \n",
      " 9   total_sales       9643 non-null   int64         \n",
      " 10  operating_profit  9643 non-null   float64       \n",
      " 11  sales_method      9643 non-null   object        \n",
      "dtypes: datetime64[ns](1), float64(1), int64(4), object(6)\n",
      "memory usage: 904.2+ KB\n",
      "None\n"
     ]
    },
    {
     "name": "stderr",
     "output_type": "stream",
     "text": [
      "/var/folders/vj/hvhj49qd53n9vtf8v185v5tr0000gn/T/ipykernel_17144/3531224765.py:2: UserWarning: Could not infer format, so each element will be parsed individually, falling back to `dateutil`. To ensure parsing is consistent and as-expected, please specify a format.\n",
      "  combined_df['invoice_date'] = pd.to_datetime(combined_df['invoice_date'])\n"
     ]
    }
   ],
   "source": [
    "# Convert the \"invoice_date\" to a datetime datatype\n",
    "combined_df['invoice_date'] = pd.to_datetime(combined_df['invoice_date'])\n",
    "\n",
    "print(\"\\nAfter Conversion:\")\n",
    "print(combined_df.info())\n"
   ]
  },
  {
   "cell_type": "code",
   "execution_count": 138,
   "metadata": {},
   "outputs": [
    {
     "name": "stdout",
     "output_type": "stream",
     "text": [
      "\n",
      "Data Types After Conversion:\n",
      "<class 'pandas.core.frame.DataFrame'>\n",
      "RangeIndex: 9643 entries, 0 to 9642\n",
      "Data columns (total 12 columns):\n",
      " #   Column            Non-Null Count  Dtype         \n",
      "---  ------            --------------  -----         \n",
      " 0   retailer          9643 non-null   object        \n",
      " 1   retailer_id       9643 non-null   int64         \n",
      " 2   invoice_date      9643 non-null   datetime64[ns]\n",
      " 3   region            9643 non-null   object        \n",
      " 4   state             9643 non-null   object        \n",
      " 5   city              9643 non-null   object        \n",
      " 6   product           9643 non-null   object        \n",
      " 7   price_per_unit    9643 non-null   int64         \n",
      " 8   units_sold        9643 non-null   int64         \n",
      " 9   total_sales       9643 non-null   int64         \n",
      " 10  operating_profit  9643 non-null   float64       \n",
      " 11  sales_method      9643 non-null   object        \n",
      "dtypes: datetime64[ns](1), float64(1), int64(4), object(6)\n",
      "memory usage: 904.2+ KB\n",
      "None\n"
     ]
    }
   ],
   "source": [
    "# Confirm that the \"invoice_date\" data type has been changed.\n",
    "print(\"\\nData Types After Conversion:\")\n",
    "print(combined_df.info())\n"
   ]
  },
  {
   "cell_type": "markdown",
   "metadata": {},
   "source": [
    "### 2. Determine which Region Sold the Most Products"
   ]
  },
  {
   "cell_type": "markdown",
   "metadata": {},
   "source": [
    "#### Using `groupby`"
   ]
  },
  {
   "cell_type": "code",
   "execution_count": 139,
   "metadata": {},
   "outputs": [
    {
     "name": "stdout",
     "output_type": "stream",
     "text": [
      "Number of Products Sold for Region, State, and City:\n",
      "       region           state            city  total_products_sold\n",
      "0     Midwest        Illinois         Chicago                  144\n",
      "1     Midwest         Indiana    Indianapolis                  144\n",
      "2     Midwest            Iowa      Des Moines                  144\n",
      "3     Midwest          Kansas         Wichita                  144\n",
      "4     Midwest        Michigan         Detroit                  144\n",
      "5     Midwest       Minnesota     Minneapolis                  142\n",
      "6     Midwest        Missouri       St. Louis                  144\n",
      "7     Midwest         Montana        Billings                  144\n",
      "8     Midwest        Nebraska           Omaha                  144\n",
      "9     Midwest    North Dakota           Fargo                  144\n",
      "10    Midwest            Ohio        Columbus                  144\n",
      "11    Midwest    South Dakota     Sioux Falls                  144\n",
      "12    Midwest       Wisconsin       Milwaukee                  144\n",
      "13  Northeast     Connecticut        Hartford                  216\n",
      "14  Northeast        Delaware      Wilmington                  144\n",
      "15  Northeast           Maine        Portland                  144\n",
      "16  Northeast        Maryland       Baltimore                  144\n",
      "17  Northeast   Massachusetts          Boston                  216\n",
      "18  Northeast   New Hampshire      Manchester                  216\n",
      "19  Northeast      New Jersey          Newark                  144\n",
      "20  Northeast        New York          Albany                  144\n",
      "21  Northeast        New York        New York                  216\n",
      "22  Northeast    Pennsylvania    Philadelphia                  216\n",
      "23  Northeast    Rhode Island      Providence                  216\n",
      "24  Northeast         Vermont      Burlington                  216\n",
      "25  Northeast   West Virginia      Charleston                  144\n",
      "26      South         Alabama      Birmingham                  216\n",
      "27      South        Arkansas     Little Rock                  216\n",
      "28      South       Louisiana     New Orleans                  216\n",
      "29      South     Mississippi         Jackson                  216\n",
      "30      South        Oklahoma   Oklahoma City                  216\n",
      "31      South       Tennessee       Knoxville                  216\n",
      "32      South           Texas          Dallas                  216\n",
      "33      South           Texas         Houston                  216\n",
      "34  Southeast         Florida           Miami                  144\n",
      "35  Southeast         Florida         Orlando                  216\n",
      "36  Southeast         Georgia         Atlanta                  216\n",
      "37  Southeast        Kentucky      Louisville                  144\n",
      "38  Southeast  North Carolina       Charlotte                  144\n",
      "39  Southeast  South Carolina      Charleston                  144\n",
      "40  Southeast        Virginia        Richmond                  216\n",
      "41       West          Alaska       Anchorage                  144\n",
      "42       West         Arizona         Phoenix                  216\n",
      "43       West      California     Los Angeles                  216\n",
      "44       West      California   San Francisco                  213\n",
      "45       West        Colorado          Denver                  144\n",
      "46       West          Hawaii        Honolulu                  144\n",
      "47       West           Idaho           Boise                  216\n",
      "48       West          Nevada       Las Vegas                  216\n",
      "49       West      New Mexico     Albuquerque                  216\n",
      "50       West          Oregon        Portland                  216\n",
      "51       West            Utah  Salt Lake City                  216\n",
      "52       West      Washington         Seattle                  144\n",
      "53       West         Wyoming        Cheyenne                  144\n",
      "Number of Products Sold for Region, State, and City:\n",
      "       region           state            city  Total_Products_Sold\n",
      "0     Midwest        Illinois         Chicago                  144\n",
      "1     Midwest         Indiana    Indianapolis                  144\n",
      "2     Midwest            Iowa      Des Moines                  144\n",
      "3     Midwest          Kansas         Wichita                  144\n",
      "4     Midwest        Michigan         Detroit                  144\n",
      "5     Midwest       Minnesota     Minneapolis                  142\n",
      "6     Midwest        Missouri       St. Louis                  144\n",
      "7     Midwest         Montana        Billings                  144\n",
      "8     Midwest        Nebraska           Omaha                  144\n",
      "9     Midwest    North Dakota           Fargo                  144\n",
      "10    Midwest            Ohio        Columbus                  144\n",
      "11    Midwest    South Dakota     Sioux Falls                  144\n",
      "12    Midwest       Wisconsin       Milwaukee                  144\n",
      "13  Northeast     Connecticut        Hartford                  216\n",
      "14  Northeast        Delaware      Wilmington                  144\n",
      "15  Northeast           Maine        Portland                  144\n",
      "16  Northeast        Maryland       Baltimore                  144\n",
      "17  Northeast   Massachusetts          Boston                  216\n",
      "18  Northeast   New Hampshire      Manchester                  216\n",
      "19  Northeast      New Jersey          Newark                  144\n",
      "20  Northeast        New York          Albany                  144\n",
      "21  Northeast        New York        New York                  216\n",
      "22  Northeast    Pennsylvania    Philadelphia                  216\n",
      "23  Northeast    Rhode Island      Providence                  216\n",
      "24  Northeast         Vermont      Burlington                  216\n",
      "25  Northeast   West Virginia      Charleston                  144\n",
      "26      South         Alabama      Birmingham                  216\n",
      "27      South        Arkansas     Little Rock                  216\n",
      "28      South       Louisiana     New Orleans                  216\n",
      "29      South     Mississippi         Jackson                  216\n",
      "30      South        Oklahoma   Oklahoma City                  216\n",
      "31      South       Tennessee       Knoxville                  216\n",
      "32      South           Texas          Dallas                  216\n",
      "33      South           Texas         Houston                  216\n",
      "34  Southeast         Florida           Miami                  144\n",
      "35  Southeast         Florida         Orlando                  216\n",
      "36  Southeast         Georgia         Atlanta                  216\n",
      "37  Southeast        Kentucky      Louisville                  144\n",
      "38  Southeast  North Carolina       Charlotte                  144\n",
      "39  Southeast  South Carolina      Charleston                  144\n",
      "40  Southeast        Virginia        Richmond                  216\n",
      "41       West          Alaska       Anchorage                  144\n",
      "42       West         Arizona         Phoenix                  216\n",
      "43       West      California     Los Angeles                  216\n",
      "44       West      California   San Francisco                  213\n",
      "45       West        Colorado          Denver                  144\n",
      "46       West          Hawaii        Honolulu                  144\n",
      "47       West           Idaho           Boise                  216\n",
      "48       West          Nevada       Las Vegas                  216\n",
      "49       West      New Mexico     Albuquerque                  216\n",
      "50       West          Oregon        Portland                  216\n",
      "51       West            Utah  Salt Lake City                  216\n",
      "52       West      Washington         Seattle                  144\n",
      "53       West         Wyoming        Cheyenne                  144\n",
      "Top 5 Regions by Number of Products Sold:\n",
      "       region      state           city  Total_Products_Sold\n",
      "27      South   Arkansas    Little Rock                  216\n",
      "40  Southeast   Virginia       Richmond                  216\n",
      "32      South      Texas         Dallas                  216\n",
      "31      South  Tennessee      Knoxville                  216\n",
      "30      South   Oklahoma  Oklahoma City                  216\n"
     ]
    }
   ],
   "source": [
    "# Show the number products sold for region, state, and city.\n",
    "products_sold = combined_df.groupby(['region', 'state', 'city']).size().reset_index(name='total_products_sold')\n",
    "\n",
    "print(\"Number of Products Sold for Region, State, and City:\")\n",
    "print(products_sold)\n",
    "\n",
    "# Rename the sum to \"Total_Products_Sold\".\n",
    "products_sold = combined_df.groupby(['region', 'state', 'city']).size().reset_index(name='Total_Products_Sold')\n",
    "\n",
    "print(\"Number of Products Sold for Region, State, and City:\")\n",
    "print(products_sold)\n",
    "\n",
    "\n",
    "# Show the top 5 results.\n",
    "products_sold = combined_df.groupby(['region', 'state', 'city']).size().reset_index(name='Total_Products_Sold')\n",
    "\n",
    "top_5_products_sold = products_sold.sort_values(by='Total_Products_Sold', ascending=False).head(5)\n",
    "\n",
    "print(\"Top 5 Regions by Number of Products Sold:\")\n",
    "print(top_5_products_sold)\n"
   ]
  },
  {
   "cell_type": "markdown",
   "metadata": {},
   "source": [
    "#### Using `pivot_table`"
   ]
  },
  {
   "cell_type": "code",
   "execution_count": 140,
   "metadata": {},
   "outputs": [
    {
     "name": "stdout",
     "output_type": "stream",
     "text": [
      "Top 5 Regions by Number of Products Sold:\n",
      "       region       state           city  Total_Products_Sold\n",
      "21  Northeast    New York       New York               111954\n",
      "33      South       Texas        Houston                90322\n",
      "44       West  California  San Francisco                85478\n",
      "43       West  California    Los Angeles                76384\n",
      "34  Southeast     Florida          Miami                73135\n"
     ]
    },
    {
     "name": "stderr",
     "output_type": "stream",
     "text": [
      "/var/folders/vj/hvhj49qd53n9vtf8v185v5tr0000gn/T/ipykernel_17144/4223752539.py:5: UserWarning: Could not infer format, so each element will be parsed individually, falling back to `dateutil`. To ensure parsing is consistent and as-expected, please specify a format.\n",
      "  combined_df['invoice_date'] = pd.to_datetime(combined_df['invoice_date'])\n"
     ]
    }
   ],
   "source": [
    "\n",
    "# I needed a lot of help with this section\n",
    "\n",
    "combined_df = pd.concat([df_2020, df_2021], ignore_index=True)\n",
    "\n",
    "combined_df['invoice_date'] = pd.to_datetime(combined_df['invoice_date'])\n",
    "\n",
    "# Use pivot_table to agg the number of products sold for each region, state, city\n",
    "products_sold = combined_df.pivot_table(values='units_sold', index=['region', 'state', 'city'], aggfunc='sum').reset_index()\n",
    "\n",
    "# Rename the \"units_sold\" column to \"Total_Products_Sold\"\n",
    "products_sold.rename(columns={'units_sold': 'Total_Products_Sold'}, inplace=True)\n",
    "\n",
    "# Sort the results in descending order \n",
    "top_5_products_sold = products_sold.sort_values(by='Total_Products_Sold', ascending=False).head(5)\n",
    "\n",
    "# Show the top 5 results\n",
    "print(\"Top 5 Regions by Number of Products Sold:\")\n",
    "print(top_5_products_sold)\n",
    "\n"
   ]
  },
  {
   "cell_type": "markdown",
   "metadata": {},
   "source": [
    "### 3. Determine which Region had the Most Sales"
   ]
  },
  {
   "cell_type": "markdown",
   "metadata": {},
   "source": [
    "#### Using `groupby`"
   ]
  },
  {
   "cell_type": "code",
   "execution_count": 141,
   "metadata": {},
   "outputs": [
    {
     "name": "stdout",
     "output_type": "stream",
     "text": [
      "Top 5 Regions by Total Sales:\n",
      "       region           state           city  Total Sales\n",
      "21  Northeast        New York       New York     39801235\n",
      "44       West      California  San Francisco     33973228\n",
      "34  Southeast         Florida          Miami     31600863\n",
      "39  Southeast  South Carolina     Charleston     29285637\n",
      "35  Southeast         Florida        Orlando     27682851\n"
     ]
    }
   ],
   "source": [
    "# Group by region, state, and city and sum the total sales\n",
    "total_sales = combined_df.groupby(['region', 'state', 'city'])['total_sales'].sum().reset_index()\n",
    "\n",
    "# Rename the \"total_sales\" column to \"Total Sales\"\n",
    "total_sales.rename(columns={'total_sales': 'Total Sales'}, inplace=True)\n",
    "\n",
    "# Sort the results in descending order \n",
    "top_5_sales = total_sales.sort_values(by='Total Sales', ascending=False).head(5)\n",
    "\n",
    "# Show the top 5 results\n",
    "print(\"Top 5 Regions by Total Sales:\")\n",
    "print(top_5_sales)\n"
   ]
  },
  {
   "cell_type": "markdown",
   "metadata": {},
   "source": [
    "#### Using `pivot_table`"
   ]
  },
  {
   "cell_type": "code",
   "execution_count": 142,
   "metadata": {},
   "outputs": [
    {
     "name": "stdout",
     "output_type": "stream",
     "text": [
      "Top 5 Regions by Total Sales:\n",
      "       region           state           city  Total Sales\n",
      "21  Northeast        New York       New York     39801235\n",
      "44       West      California  San Francisco     33973228\n",
      "34  Southeast         Florida          Miami     31600863\n",
      "39  Southeast  South Carolina     Charleston     29285637\n",
      "35  Southeast         Florida        Orlando     27682851\n"
     ]
    }
   ],
   "source": [
    "\n",
    "# Create a pivot table to aggregate the total sales for each region, state, and city\n",
    "pivot_table = combined_df.pivot_table(values='total_sales', index=['region', 'state', 'city'], aggfunc='sum').reset_index()\n",
    "\n",
    "# Optional: Rename the \"total_sales\" column to \"Total Sales\"\n",
    "pivot_table.rename(columns={'total_sales': 'Total Sales'}, inplace=True)\n",
    "\n",
    "# Sort the results in descending order to show the top 5 regions\n",
    "top_5_sales = pivot_table.sort_values(by='Total Sales', ascending=False).head(5)\n",
    "\n",
    "# Show the top 5 results\n",
    "print(\"Top 5 Regions by Total Sales:\")\n",
    "print(top_5_sales)\n"
   ]
  },
  {
   "cell_type": "markdown",
   "metadata": {},
   "source": [
    "### 4. Determine which Retailer had the Most Sales"
   ]
  },
  {
   "cell_type": "markdown",
   "metadata": {},
   "source": [
    "#### Using `groupby`"
   ]
  },
  {
   "cell_type": "code",
   "execution_count": 143,
   "metadata": {},
   "outputs": [
    {
     "name": "stdout",
     "output_type": "stream",
     "text": [
      "Top 5 Retailers by Total Sales:\n",
      "        retailer     region           state           city  Total Sales\n",
      "103    West Gear       West      California  San Francisco     32794405\n",
      "50        Kohl's       West      California    Los Angeles     25127160\n",
      "22   Foot Locker  Northeast        New York       New York     25008568\n",
      "109    West Gear       West      Washington        Seattle     24862675\n",
      "33   Foot Locker  Southeast  South Carolina     Charleston     24822280\n"
     ]
    }
   ],
   "source": [
    "# Show the total sales for the products sold for each retailer, region, state, and city.\n",
    "# Rename the \"total_sales\" column to \"Total Sales\"\n",
    "\n",
    "\n",
    "# Show the top 5 results.\n",
    "\n",
    "\n",
    "# Convert the \"invoice_date\" column to a datetime data type\n",
    "combined_df['invoice_date'] = pd.to_datetime(combined_df['invoice_date'])\n",
    "\n",
    "# Group by retailer, region, state, and city and sum the total sales\n",
    "total_sales = combined_df.groupby(['retailer', 'region', 'state', 'city'])['total_sales'].sum().reset_index()\n",
    "\n",
    "# Rename the \"total_sales\" column to \"Total Sales\"\n",
    "total_sales.rename(columns={'total_sales': 'Total Sales'}, inplace=True)\n",
    "\n",
    "# Sort the results in descending order to show the top 5 retailers\n",
    "top_5_sales = total_sales.sort_values(by='Total Sales', ascending=False).head(5)\n",
    "\n",
    "# Show the top 5 results\n",
    "print(\"Top 5 Retailers by Total Sales:\")\n",
    "print(top_5_sales)\n"
   ]
  },
  {
   "cell_type": "markdown",
   "metadata": {},
   "source": [
    "#### Using `pivot_table`"
   ]
  },
  {
   "cell_type": "code",
   "execution_count": 144,
   "metadata": {},
   "outputs": [
    {
     "name": "stdout",
     "output_type": "stream",
     "text": [
      "Top 5 Retailers by Total Sales:\n",
      "        retailer     region           state           city  Total Sales\n",
      "103    West Gear       West      California  San Francisco     32794405\n",
      "50        Kohl's       West      California    Los Angeles     25127160\n",
      "22   Foot Locker  Northeast        New York       New York     25008568\n",
      "109    West Gear       West      Washington        Seattle     24862675\n",
      "33   Foot Locker  Southeast  South Carolina     Charleston     24822280\n"
     ]
    }
   ],
   "source": [
    "# Show the total sales for the products sold for each retailer, region, state, and city.\n",
    "pivot_table = combined_df.pivot_table(values='total_sales', index=['retailer', 'region', 'state', 'city'], aggfunc='sum').reset_index()\n",
    "\n",
    "\n",
    "# Optional: Rename the \"total_sales\" column to \"Total Sales\"\n",
    "pivot_table.rename(columns={'total_sales': 'Total Sales'}, inplace=True)\n",
    "\n",
    "\n",
    "# Show the top 5 results.\n",
    "top_5_sales = pivot_table.sort_values(by='Total Sales', ascending=False).head(5)\n",
    "\n",
    "print(\"Top 5 Retailers by Total Sales:\")\n",
    "print(top_5_sales)"
   ]
  },
  {
   "cell_type": "markdown",
   "metadata": {},
   "source": [
    "### 5. Determine which Retailer Sold the Most Women's Athletic Footwear"
   ]
  },
  {
   "cell_type": "markdown",
   "metadata": {},
   "source": [
    "#### Using `groupby`"
   ]
  },
  {
   "cell_type": "code",
   "execution_count": 145,
   "metadata": {},
   "outputs": [
    {
     "name": "stdout",
     "output_type": "stream",
     "text": [
      "Column Names in Combined Data:\n",
      "Index(['retailer', 'retailer_id', 'invoice_date', 'region', 'state', 'city',\n",
      "       'product', 'price_per_unit', 'units_sold', 'total_sales',\n",
      "       'operating_profit', 'sales_method'],\n",
      "      dtype='object')\n"
     ]
    }
   ],
   "source": [
    "# To keep track of where things are\n",
    "print(\"Column Names in Combined Data:\")\n",
    "print(combined_df.columns)"
   ]
  },
  {
   "cell_type": "code",
   "execution_count": 146,
   "metadata": {},
   "outputs": [
    {
     "name": "stdout",
     "output_type": "stream",
     "text": [
      "Top 5 Retailers by Women's Athletic Footwear Units Sold:\n",
      "          retailer     region           state           city  \\\n",
      "101      West Gear       West      California  San Francisco   \n",
      "22     Foot Locker  Northeast        New York       New York   \n",
      "49          Kohl's       West      California    Los Angeles   \n",
      "33     Foot Locker  Southeast  South Carolina     Charleston   \n",
      "68   Sports Direct      South           Texas         Dallas   \n",
      "\n",
      "     Womens_Footwear_Units_Sold  \n",
      "101                       12107  \n",
      "22                        10996  \n",
      "49                        10826  \n",
      "33                         8814  \n",
      "68                         8790  \n"
     ]
    }
   ],
   "source": [
    "# Assuming the correct column name is 'product_type', filter the data for women's athletic footwear\n",
    "womens_footwear_df = combined_df.loc[combined_df['product'] == \"Women's Athletic Footwear\"]\n",
    "\n",
    "# Group by retailer, region, state, and city and sum the total units sold\n",
    "womens_footwear_units_sold = womens_footwear_df.groupby(['retailer', 'region', 'state', 'city'])['units_sold'].sum().reset_index()\n",
    "\n",
    "# Rename the \"units_sold\" column to \"Womens_Footwear_Units_Sold\"\n",
    "womens_footwear_units_sold.rename(columns={'units_sold': 'Womens_Footwear_Units_Sold'}, inplace=True)\n",
    "\n",
    "# Sort the results in descending order to show the top 5 retailers\n",
    "top_5_units_sold = womens_footwear_units_sold.sort_values(by='Womens_Footwear_Units_Sold', ascending=False).head(5)\n",
    "\n",
    "# Display the top 5 results\n",
    "print(\"Top 5 Retailers by Women's Athletic Footwear Units Sold:\")\n",
    "print(top_5_units_sold)\n"
   ]
  },
  {
   "cell_type": "code",
   "execution_count": 147,
   "metadata": {},
   "outputs": [
    {
     "name": "stdout",
     "output_type": "stream",
     "text": [
      "Top 5 Retailers by Women's Athletic Footwear Units Sold:\n",
      "          retailer     region           state           city  \\\n",
      "101      West Gear       West      California  San Francisco   \n",
      "22     Foot Locker  Northeast        New York       New York   \n",
      "49          Kohl's       West      California    Los Angeles   \n",
      "33     Foot Locker  Southeast  South Carolina     Charleston   \n",
      "68   Sports Direct      South           Texas         Dallas   \n",
      "\n",
      "     Womens_Footwear_Units_Sold  \n",
      "101                       12107  \n",
      "22                        10996  \n",
      "49                        10826  \n",
      "33                         8814  \n",
      "68                         8790  \n"
     ]
    }
   ],
   "source": [
    "# Show the total number of women's athletic footwear sold for each retailer, region, state, and city.\n",
    "womens_footwear_units_sold = womens_footwear_df.groupby(['retailer', 'region', 'state', 'city'])['units_sold'].sum().reset_index()\n",
    "\n",
    "# Rename the \"units_sold\" column to \"Womens_Footwear_Units_Sold\"\n",
    "womens_footwear_units_sold.rename(columns={'units_sold': 'Womens_Footwear_Units_Sold'}, inplace=True)\n",
    "\n",
    "# Show the top 5 results.\n",
    "top_5_units_sold = womens_footwear_units_sold.sort_values(by='Womens_Footwear_Units_Sold', ascending=False).head(5)\n",
    "\n",
    "print(\"Top 5 Retailers by Women's Athletic Footwear Units Sold:\")\n",
    "print(top_5_units_sold)\n"
   ]
  },
  {
   "cell_type": "markdown",
   "metadata": {},
   "source": [
    "#### Using `pivot_table`"
   ]
  },
  {
   "cell_type": "code",
   "execution_count": 148,
   "metadata": {},
   "outputs": [
    {
     "name": "stdout",
     "output_type": "stream",
     "text": [
      "Top 5 Retailers by Women's Athletic Footwear Units Sold:\n",
      "          retailer     region           state           city  \\\n",
      "101      West Gear       West      California  San Francisco   \n",
      "22     Foot Locker  Northeast        New York       New York   \n",
      "49          Kohl's       West      California    Los Angeles   \n",
      "33     Foot Locker  Southeast  South Carolina     Charleston   \n",
      "68   Sports Direct      South           Texas         Dallas   \n",
      "\n",
      "     Womens_Footwear_Units_Sold  \n",
      "101                       12107  \n",
      "22                        10996  \n",
      "49                        10826  \n",
      "33                         8814  \n",
      "68                         8790  \n"
     ]
    }
   ],
   "source": [
    "# Show the total number of women's athletic footwear sold for each retailer, region, state, and city.\n",
    "womens_footwear_units_sold = womens_footwear_df.groupby(['retailer', 'region', 'state', 'city'])['units_sold'].sum().reset_index()\n",
    "\n",
    "\n",
    "# Rename the \"units_sold\" column to \"Womens_Footwear_Units_Sold\"\n",
    "womens_footwear_units_sold.rename(columns={'units_sold': 'Womens_Footwear_Units_Sold'}, inplace=True)\n",
    "\n",
    "\n",
    "# Show the top 5 results.\n",
    "top_5_units_sold = womens_footwear_units_sold.sort_values(by='Womens_Footwear_Units_Sold', ascending=False).head(5)\n",
    "\n",
    "print(\"Top 5 Retailers by Women's Athletic Footwear Units Sold:\")\n",
    "print(top_5_units_sold)\n",
    "\n"
   ]
  },
  {
   "cell_type": "markdown",
   "metadata": {},
   "source": [
    "### 6. Determine the Day with the Most Women's Athletic Footwear Sales"
   ]
  },
  {
   "cell_type": "code",
   "execution_count": 149,
   "metadata": {},
   "outputs": [
    {
     "name": "stderr",
     "output_type": "stream",
     "text": [
      "/var/folders/vj/hvhj49qd53n9vtf8v185v5tr0000gn/T/ipykernel_17144/1958139664.py:5: UserWarning: Could not infer format, so each element will be parsed individually, falling back to `dateutil`. To ensure parsing is consistent and as-expected, please specify a format.\n",
      "  combined_df['invoice_date'] = pd.to_datetime(combined_df['invoice_date'])\n"
     ]
    },
    {
     "name": "stdout",
     "output_type": "stream",
     "text": [
      "Top 5 Retailers by Women's Athletic Footwear Units Sold:\n",
      "          retailer     region           state           city  \\\n",
      "101      West Gear       West      California  San Francisco   \n",
      "22     Foot Locker  Northeast        New York       New York   \n",
      "49          Kohl's       West      California    Los Angeles   \n",
      "33     Foot Locker  Southeast  South Carolina     Charleston   \n",
      "68   Sports Direct      South           Texas         Dallas   \n",
      "\n",
      "     Womens_Footwear_Units_Sold  \n",
      "101                       12107  \n",
      "22                        10996  \n",
      "49                        10826  \n",
      "33                         8814  \n",
      "68                         8790  \n"
     ]
    }
   ],
   "source": [
    "# Combine the 2020 and 2021 DataFrames by rows\n",
    "combined_df = pd.concat([df_2020, df_2021], ignore_index=True)\n",
    "\n",
    "# Convert the \"invoice_date\" column to a datetime data type\n",
    "combined_df['invoice_date'] = pd.to_datetime(combined_df['invoice_date'])\n",
    "\n",
    "# Filter the data to get only women's athletic footwear sales\n",
    "womens_footwear_df = combined_df.loc[combined_df['product'] == \"Women's Athletic Footwear\"]\n",
    "\n",
    "# Create a pivot table to aggregate the total units sold for each retailer, region, state, and city\n",
    "pivot_table = womens_footwear_df.pivot_table(values='units_sold', index=['retailer', 'region', 'state', 'city'], aggfunc='sum').reset_index()\n",
    "\n",
    "# Rename the \"units_sold\" column to \"Womens_Footwear_Units_Sold\"\n",
    "pivot_table.rename(columns={'units_sold': 'Womens_Footwear_Units_Sold'}, inplace=True)\n",
    "\n",
    "# Sort the results in descending order to show the top 5 retailers\n",
    "top_5_units_sold = pivot_table.sort_values(by='Womens_Footwear_Units_Sold', ascending=False).head(5)\n",
    "\n",
    "# Display the top 5 results\n",
    "print(\"Top 5 Retailers by Women's Athletic Footwear Units Sold:\")\n",
    "print(top_5_units_sold)"
   ]
  },
  {
   "cell_type": "code",
   "execution_count": 150,
   "metadata": {},
   "outputs": [
    {
     "name": "stdout",
     "output_type": "stream",
     "text": [
      "Pivot Table with Invoice Date and Total Sales:\n",
      "    invoice_date  Total Sales\n",
      "0     2020-01-04       402743\n",
      "1     2020-01-05       141801\n",
      "2     2020-01-11       129556\n",
      "3     2020-01-17       173013\n",
      "4     2020-01-22       388250\n",
      "..           ...          ...\n",
      "350   2021-12-22       200406\n",
      "351   2021-12-23       808022\n",
      "352   2021-12-24       190885\n",
      "353   2021-12-25       315175\n",
      "354   2021-12-30       167903\n",
      "\n",
      "[355 rows x 2 columns]\n"
     ]
    },
    {
     "name": "stderr",
     "output_type": "stream",
     "text": [
      "/var/folders/vj/hvhj49qd53n9vtf8v185v5tr0000gn/T/ipykernel_17144/406964980.py:9: UserWarning: Could not infer format, so each element will be parsed individually, falling back to `dateutil`. To ensure parsing is consistent and as-expected, please specify a format.\n",
      "  combined_df['invoice_date'] = pd.to_datetime(combined_df['invoice_date'])\n"
     ]
    }
   ],
   "source": [
    "# Create a pivot table with the 'invoice_date' column is the index, and the \"total_sales\" as the values.\n",
    "pivot_table = womens_footwear_df.pivot_table(values='total_sales', index='invoice_date', aggfunc='sum').reset_index()\n",
    "\n",
    "\n",
    "# Combine the 2020 and 2021 DataFrames by rows\n",
    "combined_df = pd.concat([df_2020, df_2021], ignore_index=True)\n",
    "\n",
    "# Convert the \"invoice_date\" column to a datetime data type\n",
    "combined_df['invoice_date'] = pd.to_datetime(combined_df['invoice_date'])\n",
    "\n",
    "# Optional: Rename the \"total_sales\" column to \"Total Sales\"\n",
    "pivot_table.rename(columns={'total_sales': 'Total Sales'}, inplace=True)\n",
    "\n",
    "# Show the table.\n",
    "print(\"Pivot Table with Invoice Date and Total Sales:\")\n",
    "print(pivot_table)"
   ]
  },
  {
   "cell_type": "code",
   "execution_count": 151,
   "metadata": {},
   "outputs": [
    {
     "name": "stdout",
     "output_type": "stream",
     "text": [
      "Day with the Most Women's Athletic Footwear Sales:\n",
      "    invoice_date  Total Sales\n",
      "227   2021-07-16      1521825\n"
     ]
    }
   ],
   "source": [
    "# Sort the pivot table by 'Total Sales' in descending order\n",
    "sorted_pivot_table = pivot_table.sort_values(by='Total Sales', ascending=False)\n",
    "\n",
    "# Show the top result\n",
    "top_day = sorted_pivot_table.head(1)\n",
    "\n",
    "# Display the top result\n",
    "print(\"Day with the Most Women's Athletic Footwear Sales:\")\n",
    "print(top_day)\n"
   ]
  },
  {
   "cell_type": "markdown",
   "metadata": {},
   "source": [
    "### 7.  Determine the Week with the Most Women's Athletic Footwear Sales"
   ]
  },
  {
   "cell_type": "code",
   "execution_count": 152,
   "metadata": {},
   "outputs": [
    {
     "name": "stdout",
     "output_type": "stream",
     "text": [
      "Pivot Table with Invoice Date and Total Sales:\n",
      "              Total Sales\n",
      "invoice_date             \n",
      "2020-01-04         402743\n",
      "2020-01-05         141801\n",
      "2020-01-11         129556\n",
      "2020-01-17         173013\n",
      "2020-01-22         388250\n",
      "...                   ...\n",
      "2021-12-22         200406\n",
      "2021-12-23         808022\n",
      "2021-12-24         190885\n",
      "2021-12-25         315175\n",
      "2021-12-30         167903\n",
      "\n",
      "[355 rows x 1 columns]\n",
      "Sorted Weekly Sales Resampled:\n",
      "              Total Sales\n",
      "invoice_date             \n",
      "2021-12-19        3098970\n",
      "2021-12-12        2922161\n",
      "2021-07-11        2835078\n",
      "2021-07-18        2801449\n",
      "2021-11-14        2531721\n",
      "...                   ...\n",
      "2020-12-06          62801\n",
      "2020-12-20          61710\n",
      "2020-12-13          58916\n",
      "2020-11-22          53940\n",
      "2020-10-18              0\n",
      "\n",
      "[105 rows x 1 columns]\n"
     ]
    }
   ],
   "source": [
    "\n",
    "# filter the data for women's athletic footwear\n",
    "womens_footwear_df = combined_df.loc[combined_df['product'] == \"Women's Athletic Footwear\"]\n",
    "\n",
    "# Create a pivot table with 'invoice_date' as the index and 'total_sales' as the values\n",
    "pivot_table = womens_footwear_df.pivot_table(values='total_sales', index='invoice_date', aggfunc='sum')\n",
    "\n",
    "# Rename the 'total_sales' column to 'Total Sales'\n",
    "pivot_table.rename(columns={'total_sales': 'Total Sales'}, inplace=True)\n",
    "\n",
    "# Display pivot table\n",
    "print(\"Pivot Table with Invoice Date and Total Sales:\")\n",
    "print(pivot_table)\n",
    "\n",
    "# Resample the pivot table into weekly bins and sum the total sales for each week\n",
    "weekly_sales = pivot_table.resample('W').sum()\n",
    "\n",
    "# Sort the resampled data in descending order by 'Total Sales'\n",
    "sorted_weekly_sales = weekly_sales.sort_values(by='Total Sales', ascending=False)\n",
    "\n",
    "# Display the sorted resampled data\n",
    "print(\"Sorted Weekly Sales Resampled:\")\n",
    "print(sorted_weekly_sales)\n"
   ]
  },
  {
   "cell_type": "code",
   "execution_count": null,
   "metadata": {},
   "outputs": [],
   "source": []
  }
 ],
 "metadata": {
  "kernelspec": {
   "display_name": "Python 3 (ipykernel)",
   "language": "python",
   "name": "python3"
  },
  "language_info": {
   "codemirror_mode": {
    "name": "ipython",
    "version": 3
   },
   "file_extension": ".py",
   "mimetype": "text/x-python",
   "name": "python",
   "nbconvert_exporter": "python",
   "pygments_lexer": "ipython3",
   "version": "3.12.3"
  }
 },
 "nbformat": 4,
 "nbformat_minor": 4
}
